{
 "cells": [
  {
   "attachments": {},
   "cell_type": "markdown",
   "metadata": {},
   "source": [
    "# How to write evaluation task\n",
    "\n",
    "This notebook demonstrates how bobbin can help building evaluation."
   ]
  },
  {
   "attachments": {},
   "cell_type": "markdown",
   "metadata": {},
   "source": [
    "## Preamble: Install prerequisites, import modules."
   ]
  },
  {
   "cell_type": "code",
   "execution_count": 1,
   "metadata": {},
   "outputs": [],
   "source": [
    "!pip -q install --upgrade pip\n",
    "!pip -q install --upgrade \"jax[cpu]\"\n",
    "!pip -q uninstall -y bobbin\n",
    "!pip -q install --upgrade git+https://github.com/yotarok/bobbin.git"
   ]
  },
  {
   "cell_type": "code",
   "execution_count": 66,
   "metadata": {},
   "outputs": [],
   "source": [
    "%%capture\n",
    "from typing import Tuple\n",
    "\n",
    "import bobbin\n",
    "import chex\n",
    "import flax\n",
    "import flax.linen as nn\n",
    "import jax\n",
    "import jax.numpy as jnp\n",
    "import numpy as np\n",
    "import optax\n",
    "import tensorflow_datasets as tfds\n",
    "import matplotlib.pyplot as plt"
   ]
  },
  {
   "cell_type": "code",
   "execution_count": 67,
   "metadata": {},
   "outputs": [],
   "source": [
    "chex.set_n_cpu_devices(8)\n",
    "\n",
    "Array = chex.Array"
   ]
  },
  {
   "attachments": {},
   "cell_type": "markdown",
   "metadata": {},
   "source": [
    "## Prepare a model to be evaluated"
   ]
  },
  {
   "attachments": {},
   "cell_type": "markdown",
   "metadata": {},
   "source": [
    "First, we train a small model to be evaluated over the MNIST datasets.  For more details in training with bobbin, please refer [How to write a training loop](https://bobbin.readthedocs.io/en/latest/train_task.html).\n",
    "\n",
    "The function below is a definition for dataset pipelines."
   ]
  },
  {
   "cell_type": "code",
   "execution_count": 68,
   "metadata": {},
   "outputs": [],
   "source": [
    "def get_dataset(batch_size, *, is_train=True, split=\"train\"):\n",
    "    ds = tfds.load(\"mnist\", split=split, as_supervised=True)\n",
    "    if is_train:\n",
    "        ds = ds.repeat().shuffle(1024)\n",
    "    ds = ds.batch(batch_size).prefetch(1)\n",
    "    return ds"
   ]
  },
  {
   "attachments": {},
   "cell_type": "markdown",
   "metadata": {},
   "source": [
    "Note that the dataset is infinite only when `is_train == True`.\n",
    "\n",
    "Here, a simple linear classifier is defined as a Flax module, also `bobbin.TrainTask` subclass is implemented for defining cross-entropy trainng over that simple classifier. (See [training doc](https://bobbin.readthedocs.io/en/latest/train_task.html) for details.)"
   ]
  },
  {
   "cell_type": "code",
   "execution_count": 69,
   "metadata": {},
   "outputs": [],
   "source": [
    "class MnistLinearClassifier(nn.Module):\n",
    "    @nn.compact\n",
    "    def __call__(self, x: Array) -> Array:\n",
    "        batch_size, *unused_image_dims = x.shape\n",
    "        x = x.reshape((batch_size, -1))  # flatten the input image.\n",
    "        return nn.Dense(features=10)(x)\n",
    "\n",
    "\n",
    "class MnistTrainingTask(bobbin.TrainTask):\n",
    "    def __init__(self):\n",
    "        super().__init__(\n",
    "            MnistLinearClassifier(),\n",
    "            example_args=(\n",
    "                np.zeros((1, 28, 28, 1), np.float32),  # comma-here is important\n",
    "            ),\n",
    "        )\n",
    "\n",
    "    def compute_loss(self, params, batch, *, extra_vars, prng_key, step):\n",
    "        images, labels = batch\n",
    "        logits = self.model.apply({\"params\": params}, images)\n",
    "        per_sample_loss = optax.softmax_cross_entropy(\n",
    "            logits=logits, labels=jax.nn.one_hot(labels, 10)\n",
    "        )\n",
    "        return jnp.mean(per_sample_loss), ({}, None)\n",
    "\n",
    "\n",
    "task = MnistTrainingTask()\n",
    "train_state = task.initialize_train_state(\n",
    "    jax.random.PRNGKey(0), optax.sgd(0.001, momentum=0.9)\n",
    ")\n",
    "train_step_fn = task.make_training_step_fn()"
   ]
  },
  {
   "attachments": {},
   "cell_type": "markdown",
   "metadata": {},
   "source": [
    "500 steps of stochastic gradient descent are done as follows:"
   ]
  },
  {
   "cell_type": "code",
   "execution_count": 70,
   "metadata": {},
   "outputs": [
    {
     "name": "stderr",
     "output_type": "stream",
     "text": [
      "2023-02-20 16:38:13.303908: W tensorflow/core/kernels/data/cache_dataset_ops.cc:856] The calling iterator did not fully read the dataset being cached. In order to avoid unexpected truncation of the dataset, the partially cached contents of the dataset  will be discarded. This can happen if you have an input pipeline similar to `dataset.cache().take(k).repeat()`. You should use `dataset.take(k).cache().repeat()` instead.\n"
     ]
    },
    {
     "name": "stdout",
     "output_type": "stream",
     "text": [
      "Last loss value = 107.15328979492188\n"
     ]
    },
    {
     "name": "stderr",
     "output_type": "stream",
     "text": [
      "2023-02-20 16:38:17.544889: W tensorflow/core/kernels/data/cache_dataset_ops.cc:856] The calling iterator did not fully read the dataset being cached. In order to avoid unexpected truncation of the dataset, the partially cached contents of the dataset  will be discarded. This can happen if you have an input pipeline similar to `dataset.cache().take(k).repeat()`. You should use `dataset.take(k).cache().repeat()` instead.\n"
     ]
    }
   ],
   "source": [
    "prng_key = jax.random.PRNGKey(0)\n",
    "for batch in get_dataset(64).take(500).as_numpy_iterator():\n",
    "    rng, prng_key = jax.random.split(prng_key)\n",
    "    train_state, step_info = train_step_fn(train_state, batch, rng)\n",
    "print(f\"Last loss value = {step_info.loss}\")"
   ]
  },
  {
   "attachments": {},
   "cell_type": "markdown",
   "metadata": {},
   "source": [
    "## Define EvalResults\n",
    "\n",
    "First, we define the metric used for evaluation.\n",
    "Here, also for demonstrating [`SampledSet`](https://bobbin.readthedocs.io/en/latest/api.html#bobbin.SampledSet), the result is containing both confusion matrices and sampled triples of inputs, outputs, and labels."
   ]
  },
  {
   "cell_type": "code",
   "execution_count": 96,
   "metadata": {},
   "outputs": [],
   "source": [
    "class EvalResults(bobbin.EvalResults):\n",
    "    confusion_matrix: Array\n",
    "    examples: bobbin.SampledSet[Tuple[int, int, Array]] = flax.struct.field(\n",
    "        pytree_node=False, default=bobbin.SampledSet(max_size=4)\n",
    "    )\n",
    "    dataset_name: str = flax.struct.field(pytree_node=False, default=\"\")\n",
    "\n",
    "    def prediction_count(self) -> int:\n",
    "        return jnp.sum(self.confusion_matrix)\n",
    "\n",
    "    def correct_count(self) -> int:\n",
    "        return jnp.sum(jnp.diag(self.confusion_matrix))\n",
    "\n",
    "    def accuracy(self) -> float:\n",
    "        return self.correct_count() / self.prediction_count()\n",
    "\n",
    "    def reduce(self, other: \"EvalResults\") -> \"EvalResults\":\n",
    "        return type(self)(\n",
    "            confusion_matrix=self.confusion_matrix + other.confusion_matrix,\n",
    "            examples=self.examples.union(other.examples),\n",
    "        )"
   ]
  },
  {
   "attachments": {},
   "cell_type": "markdown",
   "metadata": {},
   "source": [
    "`EvalResults` is a subclass of `flax.dataclass.PyTreeNode` that means that it follows Python's dataclass semantics. The type annotations at the beginning of the class definition are also used as a list of fields, and some special methods, e.g. constructors, are created automatically according to the list of fields.\n",
    "\n",
    "Here, it should be noted that some of fields (\"examples\" and \"dataset_name\" in this example) are explicitly excluded from pytree definition by setting `pytree_node=False`.  This is especially important when we do use JIT-ed function in the `EvalTask` below. Anything that is passed to the compiled (JIT-ed) function must have a jax representation, and some types like `str` doesn't have that. Therefore, we have to exclude those things from pytree so they are treated as non-jax variables.\n",
    "\n",
    "A subclass of `bobbin.EvalTask` is defined for implementing how to compute `EvalResults` above."
   ]
  },
  {
   "cell_type": "code",
   "execution_count": 97,
   "metadata": {},
   "outputs": [],
   "source": [
    "class EvalTask(bobbin.EvalTask):\n",
    "    def __init__(self):\n",
    "        self.model = MnistLinearClassifier()\n",
    "\n",
    "    def create_eval_results(self, dataset_name):\n",
    "        return EvalResults(\n",
    "            confusion_matrix=np.zeros((10, 10)),\n",
    "            examples=bobbin.SampledSet(max_size=4),\n",
    "            dataset_name=dataset_name,\n",
    "        )\n",
    "\n",
    "    def evaluate(self, batch, model_vars) -> EvalResults:\n",
    "        inputs, labels = batch\n",
    "        logits = self.model.apply(model_vars, inputs)\n",
    "        predicts = logits.argmax(axis=-1)\n",
    "        confusion_mat = jnp.dot(\n",
    "            jax.nn.one_hot(predicts, 10).T, jax.nn.one_hot(labels, 10)\n",
    "        )\n",
    "        examples = bobbin.SampledSet(max_size=4).union(\n",
    "            zip(predicts, labels, list(inputs))\n",
    "        )\n",
    "        return EvalResults(confusion_matrix=confusion_mat, examples=examples)"
   ]
  },
  {
   "attachments": {},
   "cell_type": "markdown",
   "metadata": {},
   "source": [
    "`EvalTask.create_eval_results` is used for initializing the `EvalResults` instance.  For each incoming batch, `EvalTask.evaluate` is called, and the results are combined following the pseudo-code below:\n",
    "\n",
    "```python\n",
    "result = eval_task.create_eval_results(...)\n",
    "for b in batches:\n",
    "    result = result.reduce(eval_task.evaluate(b, ...))\n",
    "```\n",
    "\n",
    "The datasets given to the evaluation process are represented as a (nullary) function that returns iterator of batches.\n",
    "If we use `tf.data` API for representing the dataset, we can easily obtain such function as follows:"
   ]
  },
  {
   "cell_type": "code",
   "execution_count": 98,
   "metadata": {},
   "outputs": [],
   "source": [
    "eval_datasets = {\n",
    "    \"train\": get_dataset(32, split=\"train[:1000]\", is_train=False).as_numpy_iterator,\n",
    "    \"test\": get_dataset(32, split=\"test\", is_train=False).as_numpy_iterator,\n",
    "}"
   ]
  },
  {
   "attachments": {},
   "cell_type": "markdown",
   "metadata": {},
   "source": [
    "Actual computation can be invoked by calling `bobbin.eval_datasets` as below.  (The function below basically just performs the for-loop based implementation written in the pseudo-code above, so you may write it down on your codebase.)"
   ]
  },
  {
   "cell_type": "code",
   "execution_count": 99,
   "metadata": {},
   "outputs": [
    {
     "name": "stderr",
     "output_type": "stream",
     "text": [
      "2023-02-20 17:32:36.162711: W tensorflow/core/kernels/data/cache_dataset_ops.cc:856] The calling iterator did not fully read the dataset being cached. In order to avoid unexpected truncation of the dataset, the partially cached contents of the dataset  will be discarded. This can happen if you have an input pipeline similar to `dataset.cache().take(k).repeat()`. You should use `dataset.take(k).cache().repeat()` instead.\n"
     ]
    },
    {
     "data": {
      "text/plain": [
       "dict_keys(['train', 'test'])"
      ]
     },
     "execution_count": 99,
     "metadata": {},
     "output_type": "execute_result"
    }
   ],
   "source": [
    "eval_task = EvalTask()\n",
    "all_results = bobbin.eval_datasets(\n",
    "    eval_task, eval_datasets, {\"params\": train_state.params}\n",
    ")\n",
    "all_results.keys()"
   ]
  },
  {
   "attachments": {},
   "cell_type": "markdown",
   "metadata": {},
   "source": [
    "Here, you obtained `all_results: dict[str, EvalResults]` containing accumulated results for each dataset given.\n",
    "You can compute accuracies over the results, and also visualize the confusion matrix, as follows:"
   ]
  },
  {
   "cell_type": "code",
   "execution_count": 102,
   "metadata": {},
   "outputs": [
    {
     "name": "stdout",
     "output_type": "stream",
     "text": [
      "dataset=train:\tAccuracy = 0.8629999756813049\n",
      "dataset=test:\tAccuracy = 0.8439000248908997\n"
     ]
    },
    {
     "data": {
      "text/plain": [
       "Text(0.5, 1.0, 'test')"
      ]
     },
     "execution_count": 102,
     "metadata": {},
     "output_type": "execute_result"
    },
    {
     "data": {
      "image/png": "[encoded data removed]",
      "text/plain": [
       "<Figure size 640x480 with 2 Axes>"
      ]
     },
     "metadata": {},
     "output_type": "display_data"
    }
   ],
   "source": [
    "for dataset_name, results in all_results.items():\n",
    "    print(f\"dataset={dataset_name}:\\tAccuracy = {results.accuracy()}\")\n",
    "\n",
    "plt.subplot(1, 2, 1)\n",
    "plt.imshow(all_results[\"train\"].confusion_matrix)\n",
    "plt.title(\"train\")\n",
    "plt.subplot(1, 2, 2)\n",
    "plt.imshow(all_results[\"test\"].confusion_matrix)\n",
    "plt.title(\"test\")"
   ]
  },
  {
   "attachments": {},
   "cell_type": "markdown",
   "metadata": {},
   "source": [
    "`EvalResults.examples` field holds 4 random samples of input-label-output triples. Here, we can visualize how classifier worked as follows:"
   ]
  },
  {
   "cell_type": "code",
   "execution_count": 103,
   "metadata": {},
   "outputs": [
    {
     "data": {
      "image/png": "[encoded data removed]",
      "text/plain": [
       "<Figure size 640x480 with 8 Axes>"
      ]
     },
     "metadata": {},
     "output_type": "display_data"
    }
   ],
   "source": [
    "index = 1\n",
    "for pred, lab, inputs in all_results[\"train\"].examples:\n",
    "    plt.subplot(2, 4, index)\n",
    "    plt.imshow(inputs.reshape((28, 28)))\n",
    "    plt.title(f\"out={pred}, lab={lab}\")\n",
    "    index += 1\n",
    "for pred, lab, inputs in all_results[\"test\"].examples:\n",
    "    plt.subplot(2, 4, index)\n",
    "    plt.imshow(inputs.reshape((28, 28)))\n",
    "    plt.title(f\"out={pred}, lab={lab}\")\n",
    "    index += 1"
   ]
  }
 ],
 "metadata": {
  "kernelspec": {
   "display_name": "devenv",
   "language": "python",
   "name": "python3"
  },
  "language_info": {
   "codemirror_mode": {
    "name": "ipython",
    "version": 3
   },
   "file_extension": ".py",
   "mimetype": "text/x-python",
   "name": "python",
   "nbconvert_exporter": "python",
   "pygments_lexer": "ipython3",
   "version": "3.10.9"
  },
  "orig_nbformat": 4,
  "vscode": {
   "interpreter": {
    "hash": "eb4d849bafa02e801559e3934071dec087ae9bd4e6fac9af5ed0b4f8b22179c4"
   }
  }
 },
 "nbformat": 4,
 "nbformat_minor": 2
}
