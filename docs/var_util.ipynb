{
 "cells": [
  {
   "attachments": {},
   "cell_type": "markdown",
   "metadata": {
    "id": "sSgQj34JV6IT"
   },
   "source": [
    "# How to use `var_util` API\n",
    "\n",
    "This short notebook demonstrates how to use \"var_util\" API of Bobbin. \"var_util\" is aimint at providing an easy way to access to deeply nested pytree structures."
   ]
  },
  {
   "attachments": {},
   "cell_type": "markdown",
   "metadata": {},
   "source": [
    "## Preamble: Install prerequisites, import modules."
   ]
  },
  {
   "cell_type": "code",
   "execution_count": 18,
   "metadata": {
    "colab": {
     "base_uri": "https://localhost:8080/"
    },
    "executionInfo": {
     "elapsed": 15104,
     "status": "ok",
     "timestamp": 1676518456401,
     "user": {
      "displayName": "Yotaro Kubo",
      "userId": "01940596028416725847"
     },
     "user_tz": -540
    },
    "id": "cKGlzxH5RAas",
    "outputId": "f975fc71-572c-4a3a-ce37-2f8fafd67f11"
   },
   "outputs": [],
   "source": [
    "!pip -q install --upgrade pip\n",
    "!pip -q install --upgrade \"jax[cpu]\"\n",
    "!pip -q install git+https://github.com/yotarok/bobbin.git"
   ]
  },
  {
   "cell_type": "code",
   "execution_count": 19,
   "metadata": {
    "executionInfo": {
     "elapsed": 336,
     "status": "ok",
     "timestamp": 1676523888745,
     "user": {
      "displayName": "Yotaro Kubo",
      "userId": "01940596028416725847"
     },
     "user_tz": -540
    },
    "id": "YcpIi-PvRMue"
   },
   "outputs": [],
   "source": [
    "%%capture\n",
    "import bobbin\n",
    "import chex\n",
    "import flax\n",
    "import flax.linen as nn\n",
    "import jax\n",
    "import jax.numpy as jnp\n",
    "import numpy as np"
   ]
  },
  {
   "attachments": {},
   "cell_type": "markdown",
   "metadata": {
    "id": "1N4jVe09V-10"
   },
   "source": [
    "## Define an array tree via `nn.Module`\n",
    "\n",
    "In this notebook, we demonstrate how to inspect/ manipulate the variables in some Flax modules. For this, we define a module that has several parameters, as follows:"
   ]
  },
  {
   "cell_type": "code",
   "execution_count": 20,
   "metadata": {
    "executionInfo": {
     "elapsed": 798,
     "status": "ok",
     "timestamp": 1676523949415,
     "user": {
      "displayName": "Yotaro Kubo",
      "userId": "01940596028416725847"
     },
     "user_tz": -540
    },
    "id": "bDA38IFHRd5X"
   },
   "outputs": [],
   "source": [
    "Array = chex.Array\n",
    "\n",
    "\n",
    "# You can use your custom pytree node as a part of variable.\n",
    "class DiagnosticInfo(flax.struct.PyTreeNode):\n",
    "    average_entropy: float\n",
    "    input_norms: Array\n",
    "\n",
    "\n",
    "class GaussianClassifier(nn.Module):\n",
    "    class_count: int = 4\n",
    "\n",
    "    @nn.compact\n",
    "    def __call__(self, x):\n",
    "        *unused_batch_sizes, dims = x.shape\n",
    "        means = self.param(\"means\", nn.initializers.normal(), (dims, self.class_count))\n",
    "        logprecs = self.param(\n",
    "            \"logprecs\", nn.initializers.zeros_init(), (dims, self.class_count)\n",
    "        )\n",
    "\n",
    "        diffs = x[..., np.newaxis] - means.reshape((1,) * (x.ndim - 1) + means.shape)\n",
    "        diffs = jnp.exp(logprecs.reshape((1,) * (x.ndim - 1) + logprecs.shape)) * diffs\n",
    "        logits = jnp.sum(-diffs, axis=-2)\n",
    "        class_logprob = jax.nn.log_softmax(logits)\n",
    "        avg_entropy = jnp.mean(jnp.sum(-class_logprob * np.exp(class_logprob), axis=-1))\n",
    "        self.sow(\n",
    "            \"diagnosis\",\n",
    "            \"info\",\n",
    "            DiagnosticInfo(\n",
    "                average_entropy=avg_entropy,\n",
    "                input_norms=jnp.sqrt(jnp.sum(x * x, axis=-1)),\n",
    "            ),\n",
    "        )\n",
    "        return class_logprob"
   ]
  },
  {
   "cell_type": "markdown",
   "metadata": {
    "id": "ixkCCU7jbEJs"
   },
   "source": [
    "The variable tree for this module can be obtained following normal Flax procedure, as follows:"
   ]
  },
  {
   "cell_type": "code",
   "execution_count": 21,
   "metadata": {
    "executionInfo": {
     "elapsed": 263,
     "status": "ok",
     "timestamp": 1676523952156,
     "user": {
      "displayName": "Yotaro Kubo",
      "userId": "01940596028416725847"
     },
     "user_tz": -540
    },
    "id": "gkE-p0E7VTsg"
   },
   "outputs": [],
   "source": [
    "batch_size = 4\n",
    "dims = 3\n",
    "mod = GaussianClassifier()\n",
    "variables = mod.init(jax.random.PRNGKey(0), np.zeros((batch_size, dims)))"
   ]
  },
  {
   "cell_type": "markdown",
   "metadata": {
    "id": "hqefrwldbNM1"
   },
   "source": [
    "## Paths for variables\n",
    "\n",
    "\"var_util\" provides methods to access various pytrees via \"path\"s.\n",
    "Paths are unique identifiers for each nodes in the tree.  Leaves in the tree can be enumerated by using `flatten_with_paths` function as follows:"
   ]
  },
  {
   "cell_type": "code",
   "execution_count": 22,
   "metadata": {
    "colab": {
     "base_uri": "https://localhost:8080/"
    },
    "executionInfo": {
     "elapsed": 362,
     "status": "ok",
     "timestamp": 1676523954155,
     "user": {
      "displayName": "Yotaro Kubo",
      "userId": "01940596028416725847"
     },
     "user_tz": -540
    },
    "id": "BqHIsIdrVy1O",
    "outputId": "7e737a3d-27f8-4951-aa93-f355fc7ed74b"
   },
   "outputs": [
    {
     "data": {
      "text/plain": [
       "[('/diagnosis/info/0/average_entropy', Array(1.3861325, dtype=float32)),\n",
       " ('/diagnosis/info/0/input_norms', Array([0., 0., 0., 0.], dtype=float32)),\n",
       " ('/params/logprecs',\n",
       "  Array([[0., 0., 0., 0.],\n",
       "         [0., 0., 0., 0.],\n",
       "         [0., 0., 0., 0.]], dtype=float32)),\n",
       " ('/params/means',\n",
       "  Array([[ 0.0065701 ,  0.00706267, -0.00381893, -0.01414316],\n",
       "         [ 0.00661003, -0.00954964, -0.00893679,  0.00803079],\n",
       "         [ 0.00558195, -0.01153143, -0.00493697, -0.02342076]],      dtype=float32))]"
      ]
     },
     "execution_count": 22,
     "metadata": {},
     "output_type": "execute_result"
    }
   ],
   "source": [
    "list(bobbin.var_util.flatten_with_paths(variables))"
   ]
  },
  {
   "cell_type": "markdown",
   "metadata": {
    "id": "DLyq6N9DtRR7"
   },
   "source": [
    "Similarly to obtaining the list of pairs, a path-tree where each node is replaced by its path string can be obtained as follows:"
   ]
  },
  {
   "cell_type": "code",
   "execution_count": 23,
   "metadata": {
    "colab": {
     "base_uri": "https://localhost:8080/"
    },
    "executionInfo": {
     "elapsed": 261,
     "status": "ok",
     "timestamp": 1676525741729,
     "user": {
      "displayName": "Yotaro Kubo",
      "userId": "01940596028416725847"
     },
     "user_tz": -540
    },
    "id": "5qLe4t_4t1lO",
    "outputId": "ea0b86eb-f848-4e51-dfd3-116e01aef6f1"
   },
   "outputs": [
    {
     "data": {
      "text/plain": [
       "FrozenDict({\n",
       "    params: {\n",
       "        means: '/params/means',\n",
       "        logprecs: '/params/logprecs',\n",
       "    },\n",
       "    diagnosis: {\n",
       "        info: (DiagnosticInfo(average_entropy='/diagnosis/info/0/average_entropy', input_norms='/diagnosis/info/0/input_norms'),),\n",
       "    },\n",
       "})"
      ]
     },
     "execution_count": 23,
     "metadata": {},
     "output_type": "execute_result"
    }
   ],
   "source": [
    "paths = bobbin.var_util.nested_vars_to_paths(variables)\n",
    "paths"
   ]
  },
  {
   "cell_type": "markdown",
   "metadata": {
    "id": "apw9hoxht8Qp"
   },
   "source": [
    "Such path-trees are particularly important for doing some path-dependent operations over the tree. The following example overwrites \"logprecs\" parameters in the tree by ones."
   ]
  },
  {
   "cell_type": "code",
   "execution_count": 24,
   "metadata": {
    "colab": {
     "base_uri": "https://localhost:8080/"
    },
    "executionInfo": {
     "elapsed": 288,
     "status": "ok",
     "timestamp": 1676526039769,
     "user": {
      "displayName": "Yotaro Kubo",
      "userId": "01940596028416725847"
     },
     "user_tz": -540
    },
    "id": "X8RYOwLeuE5d",
    "outputId": "604ab8fd-5369-4f81-84dc-67b32eb69801"
   },
   "outputs": [
    {
     "data": {
      "text/plain": [
       "FrozenDict({\n",
       "    diagnosis: {\n",
       "        info: (DiagnosticInfo(average_entropy=Array(1.3861325, dtype=float32), input_norms=Array([0., 0., 0., 0.], dtype=float32)),),\n",
       "    },\n",
       "    params: {\n",
       "        logprecs: Array([[1., 1., 1., 1.],\n",
       "               [1., 1., 1., 1.],\n",
       "               [1., 1., 1., 1.]], dtype=float32),\n",
       "        means: Array([[ 0.0065701 ,  0.00706267, -0.00381893, -0.01414316],\n",
       "               [ 0.00661003, -0.00954964, -0.00893679,  0.00803079],\n",
       "               [ 0.00558195, -0.01153143, -0.00493697, -0.02342076]],      dtype=float32),\n",
       "    },\n",
       "})"
      ]
     },
     "execution_count": 24,
     "metadata": {},
     "output_type": "execute_result"
    }
   ],
   "source": [
    "def reset_logprecs(x, path):\n",
    "    return jnp.ones_like(x) if path.endswith(\"logprecs\") else x\n",
    "\n",
    "\n",
    "variables = jax.tree_util.tree_map(reset_logprecs, variables, paths)\n",
    "variables"
   ]
  },
  {
   "cell_type": "markdown",
   "metadata": {
    "id": "qMEUd7G6vbq_"
   },
   "source": [
    "One can also use this mechanism to compute L2 norm for the specific parameters."
   ]
  },
  {
   "cell_type": "code",
   "execution_count": 25,
   "metadata": {
    "colab": {
     "base_uri": "https://localhost:8080/"
    },
    "executionInfo": {
     "elapsed": 301,
     "status": "ok",
     "timestamp": 1676526047854,
     "user": {
      "displayName": "Yotaro Kubo",
      "userId": "01940596028416725847"
     },
     "user_tz": -540
    },
    "id": "KpsT0O0WvT9V",
    "outputId": "a958292b-6f01-4d07-be5a-b161fabf35a9"
   },
   "outputs": [
    {
     "name": "stdout",
     "output_type": "stream",
     "text": [
      "12.0\n"
     ]
    }
   ],
   "source": [
    "def compute_squared_l2norm_for_logprecs(x, path):\n",
    "    return jnp.sum(x * x) if path.endswith(\"logprecs\") else 0.0\n",
    "\n",
    "\n",
    "norm_tree = jax.tree_util.tree_map(\n",
    "    compute_squared_l2norm_for_logprecs, variables, paths\n",
    ")\n",
    "squared_l2_norm = jax.tree_util.tree_reduce(lambda acc, x: acc + x, norm_tree, 0.0)\n",
    "print(squared_l2_norm)"
   ]
  },
  {
   "cell_type": "markdown",
   "metadata": {
    "id": "yGQpxc7Pv0eQ"
   },
   "source": [
    "## JSON dumps\n",
    "\n",
    "For some use cases, JSON serialization for py-trees are useful, for example, for storing the evaluation results.  Due to the inefficiency of text format, it is not recommended to store whole variables in this way, but some cases like evaluation metrics, that is convenient.\n",
    "\n",
    "The JSON format can be obtained via `dump_pytree_json` function used as below:"
   ]
  },
  {
   "cell_type": "code",
   "execution_count": 26,
   "metadata": {
    "colab": {
     "base_uri": "https://localhost:8080/"
    },
    "executionInfo": {
     "elapsed": 256,
     "status": "ok",
     "timestamp": 1676524042781,
     "user": {
      "displayName": "Yotaro Kubo",
      "userId": "01940596028416725847"
     },
     "user_tz": -540
    },
    "id": "x1bCei1NYJr6",
    "outputId": "8e196ff2-b514-451f-8a0e-31ab24053c38"
   },
   "outputs": [
    {
     "name": "stdout",
     "output_type": "stream",
     "text": [
      "{\"diagnosis\": {\"info\": {\"0\": {\"average_entropy\": 1.3861324787139893, \"input_norms\": {\"__array__\": true, \"dtype\": \"float32\", \"data\": [0.0, 0.0, 0.0, 0.0]}}}}, \"params\": {\"logprecs\": {\"__array__\": true, \"dtype\": \"float32\", \"data\": [[1.0, 1.0, 1.0, 1.0], [1.0, 1.0, 1.0, 1.0], [1.0, 1.0, 1.0, 1.0]]}, \"means\": {\"__array__\": true, \"dtype\": \"float32\", \"data\": [[0.006570101715624332, 0.007062666118144989, -0.003818930359557271, -0.01414316426962614], [0.006610026117414236, -0.009549644775688648, -0.008936785161495209, 0.008030789904296398], [0.0055819484405219555, -0.011531432159245014, -0.004936968442052603, -0.02342076413333416]]}}}\n"
     ]
    }
   ],
   "source": [
    "json_text = bobbin.var_util.dump_pytree_json(variables)\n",
    "print(json_text)"
   ]
  },
  {
   "cell_type": "markdown",
   "metadata": {
    "id": "MvwybbpKwfXK"
   },
   "source": [
    "Here, you see that the array is stored with a special marker `\"__array__\": true`\n",
    "and `dtype` field.  However, other than that it is a normal JSON format that you can use various tools for manipulating it.  If you want to write it directly to file systems (or GCS buckets), you may use [`write_pytree_json_file`](https://bobbin.readthedocs.io/en/latest/api.html#bobbin.write_pytree_json_file) instead.\n",
    "\n",
    "Loading JSON can be done by [`parse_pytree_json`](https://bobbin.readthedocs.io/en/latest/api.html#bobbin.parse_pytree_json) or it's file-based equivalent, [`read_pytree_json_file`](https://bobbin.readthedocs.io/en/latest/api.html#bobbin.read_pytree_json_file).\n",
    "\n",
    "For those functions, you need to specify `template` parameter for specifying the structure of a pytree to be loaded. Here, in the example below, template is obtained by initializing the same flax module (with different RNG key)."
   ]
  },
  {
   "cell_type": "code",
   "execution_count": 27,
   "metadata": {
    "colab": {
     "base_uri": "https://localhost:8080/"
    },
    "executionInfo": {
     "elapsed": 375,
     "status": "ok",
     "timestamp": 1676524043918,
     "user": {
      "displayName": "Yotaro Kubo",
      "userId": "01940596028416725847"
     },
     "user_tz": -540
    },
    "id": "Lf4nG2vwYWTF",
    "outputId": "46af6ba2-a28f-4548-ed3c-a289a23e730f"
   },
   "outputs": [
    {
     "data": {
      "text/plain": [
       "FrozenDict({\n",
       "    params: {\n",
       "        means: array([[ 0.0065701 ,  0.00706267, -0.00381893, -0.01414316],\n",
       "               [ 0.00661003, -0.00954964, -0.00893679,  0.00803079],\n",
       "               [ 0.00558195, -0.01153143, -0.00493697, -0.02342076]],\n",
       "              dtype=float32),\n",
       "        logprecs: array([[1., 1., 1., 1.],\n",
       "               [1., 1., 1., 1.],\n",
       "               [1., 1., 1., 1.]], dtype=float32),\n",
       "    },\n",
       "    diagnosis: {\n",
       "        info: (DiagnosticInfo(average_entropy=1.3861324787139893, input_norms=array([0., 0., 0., 0.], dtype=float32)),),\n",
       "    },\n",
       "})"
      ]
     },
     "execution_count": 27,
     "metadata": {},
     "output_type": "execute_result"
    }
   ],
   "source": [
    "another_vars = mod.init(jax.random.PRNGKey(1), np.zeros((batch_size, dims)))\n",
    "loaded_vars = bobbin.var_util.parse_pytree_json(json_text, another_vars)\n",
    "loaded_vars"
   ]
  },
  {
   "cell_type": "markdown",
   "metadata": {
    "id": "et8JCd-hx_fo"
   },
   "source": [
    "It should be noted that `template` argument is only used for obtaining the tree structure, so it will not be altered after calling `parse_pytree_json` (or `read_pytree_json_file`."
   ]
  },
  {
   "cell_type": "code",
   "execution_count": 28,
   "metadata": {
    "colab": {
     "base_uri": "https://localhost:8080/"
    },
    "executionInfo": {
     "elapsed": 256,
     "status": "ok",
     "timestamp": 1676526664447,
     "user": {
      "displayName": "Yotaro Kubo",
      "userId": "01940596028416725847"
     },
     "user_tz": -540
    },
    "id": "0PTG00NzZ5pJ",
    "outputId": "29e4dae5-00de-4524-d1dd-0896917aecb5"
   },
   "outputs": [
    {
     "data": {
      "text/plain": [
       "FrozenDict({\n",
       "    params: {\n",
       "        means: Array([[ 0.00078776, -0.00394429,  0.00607885,  0.00394586],\n",
       "               [-0.00017481, -0.00678178, -0.01871471, -0.00491523],\n",
       "               [ 0.00404862,  0.01051817, -0.00541831, -0.00435552]],      dtype=float32),\n",
       "        logprecs: Array([[0., 0., 0., 0.],\n",
       "               [0., 0., 0., 0.],\n",
       "               [0., 0., 0., 0.]], dtype=float32),\n",
       "    },\n",
       "    diagnosis: {\n",
       "        info: (DiagnosticInfo(average_entropy=Array(1.3862587, dtype=float32), input_norms=Array([0., 0., 0., 0.], dtype=float32)),),\n",
       "    },\n",
       "})"
      ]
     },
     "execution_count": 28,
     "metadata": {},
     "output_type": "execute_result"
    }
   ],
   "source": [
    "another_vars"
   ]
  },
  {
   "cell_type": "markdown",
   "metadata": {
    "id": "wtEt8myXyPr7"
   },
   "source": [
    "## Miscelleneous utilities"
   ]
  },
  {
   "cell_type": "markdown",
   "metadata": {
    "id": "8IIKJ6Gjyx--"
   },
   "source": [
    "[`bobbin.summarize_shape`](https://bobbin.readthedocs.io/en/latest/api.html#bobbin.summarize_shape) can be used for obtaining shapes of the variable tree."
   ]
  },
  {
   "cell_type": "code",
   "execution_count": 29,
   "metadata": {
    "colab": {
     "base_uri": "https://localhost:8080/"
    },
    "executionInfo": {
     "elapsed": 258,
     "status": "ok",
     "timestamp": 1676527011791,
     "user": {
      "displayName": "Yotaro Kubo",
      "userId": "01940596028416725847"
     },
     "user_tz": -540
    },
    "id": "OjvxfZSUyxgu",
    "outputId": "bf524ac4-0500-49d1-9bc6-8fcc64a3b9f5"
   },
   "outputs": [
    {
     "name": "stdout",
     "output_type": "stream",
     "text": [
      "diagnosis:\n",
      "  info:\n",
      "    0:\n",
      "      average_entropy: () dtype=float32\n",
      "      input_norms: (4,) dtype=float32\n",
      "params:\n",
      "  logprecs: (3, 4) dtype=float32\n",
      "  means: (3, 4) dtype=float32\n",
      "\n"
     ]
    }
   ],
   "source": [
    "print(bobbin.summarize_shape(variables))"
   ]
  },
  {
   "cell_type": "markdown",
   "metadata": {
    "id": "GkBES4eqzIxO"
   },
   "source": [
    "Such shape information can be helpful when it is written as the TensorBoard text summary.\n",
    "\n",
    "Also, there's a short-cut for obtaining the total number of parameteres."
   ]
  },
  {
   "cell_type": "code",
   "execution_count": 30,
   "metadata": {
    "colab": {
     "base_uri": "https://localhost:8080/"
    },
    "executionInfo": {
     "elapsed": 274,
     "status": "ok",
     "timestamp": 1676527708891,
     "user": {
      "displayName": "Yotaro Kubo",
      "userId": "01940596028416725847"
     },
     "user_tz": -540
    },
    "id": "3tuitJWyV0So",
    "outputId": "6a9b7878-0221-4d4c-df17-23a1fd0ecac5"
   },
   "outputs": [
    {
     "name": "stdout",
     "output_type": "stream",
     "text": [
      "# of variables = 29.0\n"
     ]
    }
   ],
   "source": [
    "print(\"# of variables =\", bobbin.total_dimensionality(variables))"
   ]
  },
  {
   "cell_type": "code",
   "execution_count": null,
   "metadata": {
    "id": "zvoLirLz1qgi"
   },
   "outputs": [],
   "source": []
  }
 ],
 "metadata": {
  "colab": {
   "authorship_tag": "ABX9TyOHYV3DFKkCBwXruqH5/hIn",
   "provenance": [
    {
     "file_id": "1UQrwlMkVZggOwujw9E8JfNBo0GYe4WwU",
     "timestamp": 1676527849185
    }
   ]
  },
  "kernelspec": {
   "display_name": "devenv",
   "language": "python",
   "name": "python3"
  },
  "language_info": {
   "codemirror_mode": {
    "name": "ipython",
    "version": 3
   },
   "file_extension": ".py",
   "mimetype": "text/x-python",
   "name": "python",
   "nbconvert_exporter": "python",
   "pygments_lexer": "ipython3",
   "version": "3.10.9"
  },
  "vscode": {
   "interpreter": {
    "hash": "eb4d849bafa02e801559e3934071dec087ae9bd4e6fac9af5ed0b4f8b22179c4"
   }
  }
 },
 "nbformat": 4,
 "nbformat_minor": 0
}
