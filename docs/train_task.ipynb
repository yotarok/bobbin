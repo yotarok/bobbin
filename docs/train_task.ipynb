{
 "cells": [
  {
   "attachments": {},
   "cell_type": "markdown",
   "metadata": {},
   "source": [
    "# How to write a training loop\n",
    "\n",
    "This notebook demonstrates how bobbin can support basic training loop of flax models."
   ]
  },
  {
   "attachments": {},
   "cell_type": "markdown",
   "metadata": {},
   "source": [
    "## Preamble: Install prerequisites, import modules."
   ]
  },
  {
   "cell_type": "code",
   "execution_count": 1,
   "metadata": {},
   "outputs": [],
   "source": [
    "!pip -q install --upgrade pip\n",
    "!pip -q install --upgrade \"jax[cpu]\"\n",
    "!pip -q uninstall -y bobbin\n",
    "!pip -q install --upgrade git+https://github.com/yotarok/bobbin.git"
   ]
  },
  {
   "cell_type": "code",
   "execution_count": 2,
   "metadata": {},
   "outputs": [
    {
     "name": "stderr",
     "output_type": "stream",
     "text": [
      "2023-02-20 13:44:51.017469: W tensorflow/compiler/xla/stream_executor/platform/default/dso_loader.cc:64] Could not load dynamic library 'libnvinfer.so.7'; dlerror: libnvinfer.so.7: cannot open shared object file: No such file or directory; LD_LIBRARY_PATH: :/usr/local/google/home/yotaro/cuda/gpus/cuda_11_0/lib64\n",
      "2023-02-20 13:44:51.017697: W tensorflow/compiler/xla/stream_executor/platform/default/dso_loader.cc:64] Could not load dynamic library 'libnvinfer_plugin.so.7'; dlerror: libnvinfer_plugin.so.7: cannot open shared object file: No such file or directory; LD_LIBRARY_PATH: :/usr/local/google/home/yotaro/cuda/gpus/cuda_11_0/lib64\n",
      "2023-02-20 13:44:51.017713: W tensorflow/compiler/tf2tensorrt/utils/py_utils.cc:38] TF-TRT Warning: Cannot dlopen some TensorRT libraries. If you would like to use Nvidia GPU with TensorRT, please make sure the missing libraries mentioned above are installed properly.\n"
     ]
    }
   ],
   "source": [
    "%%capture\n",
    "import bobbin\n",
    "import chex\n",
    "import flax\n",
    "import flax.linen as nn\n",
    "import jax\n",
    "import jax.numpy as jnp\n",
    "import numpy as np\n",
    "import optax\n",
    "import tensorflow_datasets as tfds\n",
    "import matplotlib.pyplot as plt"
   ]
  },
  {
   "cell_type": "code",
   "execution_count": 3,
   "metadata": {},
   "outputs": [],
   "source": [
    "# Simulate multi-device environment by CPU\n",
    "chex.set_n_cpu_devices(8)\n",
    "\n",
    "Array = chex.Array"
   ]
  },
  {
   "attachments": {},
   "cell_type": "markdown",
   "metadata": {},
   "source": [
    "## Dataset configuration\n",
    "\n",
    "In this example, we use MNIST dataset from tensorflow_datsets (TFDS) for explanation.\n",
    "Random batches can be obtained from the MNIST training dataset by the following function."
   ]
  },
  {
   "cell_type": "code",
   "execution_count": 4,
   "metadata": {},
   "outputs": [],
   "source": [
    "def get_dataset(batch_size):\n",
    "    ds = tfds.load(\"mnist\", split=\"train\", as_supervised=True)\n",
    "    ds = ds.repeat().shuffle(1024).batch(batch_size).prefetch(1)\n",
    "    return ds"
   ]
  },
  {
   "attachments": {},
   "cell_type": "markdown",
   "metadata": {},
   "source": [
    "## Model definition\n",
    "\n",
    "The model we used for demonstration is a simple feed-forward networks with 2 hidden layer with a sigmoid activation function.  Dropout is also applied for demonstrating how random number generators (RNGs) can be handled."
   ]
  },
  {
   "cell_type": "code",
   "execution_count": 5,
   "metadata": {},
   "outputs": [],
   "source": [
    "class MnistClassifier(nn.Module):\n",
    "    @nn.compact\n",
    "    def __call__(self, x: Array, *, training=True) -> Array:\n",
    "        batch_size, *unused_image_dims = x.shape\n",
    "        x = x.reshape((batch_size, -1))  # flatten the input image.\n",
    "        hidden = nn.sigmoid(nn.Dense(features=1024)(x))\n",
    "        hidden = nn.Dropout(0.5)(hidden, deterministic=not training)\n",
    "        return nn.Dense(features=10)(hidden)"
   ]
  },
  {
   "attachments": {},
   "cell_type": "markdown",
   "metadata": {},
   "source": [
    "## `TrainTask` definition\n",
    "\n",
    "For bobbin-based training loop, a subclass of `bobbin.TrainTask` should be defined for defining all training related artifacts.\n",
    "In the below example, we specified the following details of description:\n",
    "\n",
    "* How to compute loss function in overridden `compute_loss` function,\n",
    "* A model to be trained passed to the base-class constructor.\n",
    "* A fake input batch used for initializing the parameters passed to the base-class constructor as `example_args` argument.\n",
    "* A list of extra RNG names required for model initialization passed to the base-class constructor as `required_rngs` argument.\n",
    "\n",
    "It should be noted that the `required_rngs` argument does not have to include \"params\", as it is always used for initialization."
   ]
  },
  {
   "cell_type": "code",
   "execution_count": 6,
   "metadata": {},
   "outputs": [],
   "source": [
    "class MnistTrainingTask(bobbin.TrainTask):\n",
    "    def __init__(self):\n",
    "        super().__init__(\n",
    "            MnistClassifier(),\n",
    "            example_args=(\n",
    "                np.zeros((1, 28, 28, 1), np.float32),  # comma-here is important\n",
    "            ),\n",
    "            required_rngs=(\"dropout\",),\n",
    "        )\n",
    "\n",
    "    def compute_loss(self, params, batch, *, extra_vars, prng_key, step):\n",
    "        images, labels = batch\n",
    "        logits = self.model.apply(\n",
    "            {\"params\": params}, images, rngs=self.get_rng_dict(prng_key)\n",
    "        )\n",
    "        per_sample_loss = optax.softmax_cross_entropy(\n",
    "            logits=logits, labels=jax.nn.one_hot(labels, 10)\n",
    "        )\n",
    "        return jnp.mean(per_sample_loss), ({}, None)"
   ]
  },
  {
   "attachments": {},
   "cell_type": "markdown",
   "metadata": {},
   "source": [
    "Here, the return value of `compute_loss` is a bit complicated for this task.\n",
    "`compute_loss` is expected to return\n",
    "`(loss, (updated_vars, loss_aux_info): Tuple[float, Tuple[VariableCollection, LossAuxInfo]]`.\n",
    "In addition to the loss value as in `loss`, this function can update some non-trainable variable by returning `updated_vars` and some auxiliary info via `loss_aux_info`.\n",
    "Here, we set `updated_vars` to be an empty dictionary, and `loss_aux_info` to be None."
   ]
  },
  {
   "attachments": {},
   "cell_type": "markdown",
   "metadata": {},
   "source": [
    "## Initialization of `TrainState` and step function\n",
    "\n",
    "Once we have a definition for task, we can initialize the `train_state`, which contains everything needed for continuing training can be initialized as follows:"
   ]
  },
  {
   "cell_type": "code",
   "execution_count": 7,
   "metadata": {},
   "outputs": [
    {
     "name": "stderr",
     "output_type": "stream",
     "text": [
      "No GPU/TPU found, falling back to CPU. (Set TF_CPP_MIN_LOG_LEVEL=0 and rerun for more info.)\n"
     ]
    }
   ],
   "source": [
    "task = MnistTrainingTask()\n",
    "train_state = task.initialize_train_state(jax.random.PRNGKey(0), optax.sgd(0.01))"
   ]
  },
  {
   "attachments": {},
   "cell_type": "markdown",
   "metadata": {},
   "source": [
    "Here, the first argument for `initialize_train_state` is a base RNG seed used for initialization, and the second argument for `initialize_train_state` is an instance of `optax.GradientTransformation`, i.e. optimizer used in the training.\n",
    "\n",
    "In addition to training state, we prepare the function that maps training state to the updated training state.  This can be done by calling `TrainingTask.make_training_step_fn`, as follows:"
   ]
  },
  {
   "cell_type": "code",
   "execution_count": 8,
   "metadata": {},
   "outputs": [],
   "source": [
    "train_step_fn = task.make_training_step_fn().pmap(\"d\")"
   ]
  },
  {
   "attachments": {},
   "cell_type": "markdown",
   "metadata": {},
   "source": [
    "The return value of `make_training_step_fn` is a \"configurable\" function that can transform itself with some methods. Here, we call `train_step_fn.pmap(\"d\")` for parallelizing the computation across multiple devices (\"d\" is passed as a `axis_name` parameter of `jax.pmap`).\n",
    "pmapped version of `train_step_fn` maps replicated version of `TrainState` so we also need to convert `TrainState` so it is compatible with the step function, as follows:"
   ]
  },
  {
   "cell_type": "code",
   "execution_count": 9,
   "metadata": {},
   "outputs": [
    {
     "name": "stdout",
     "output_type": "stream",
     "text": [
      "train_state.step=0\n",
      "replicated version of train_state.step=Array([0, 0, 0, 0, 0, 0, 0, 0], dtype=int32, weak_type=True)\n"
     ]
    }
   ],
   "source": [
    "print(f\"{train_state.step=}\")\n",
    "train_state = flax.jax_utils.replicate(train_state, jax.local_devices())\n",
    "print(f\"replicated version of {train_state.step=}\")"
   ]
  },
  {
   "attachments": {},
   "cell_type": "markdown",
   "metadata": {},
   "source": [
    "As we see in the previous outputs, replication copies the same values across the devices, and from the Python interpreter, it can be seen as an array with an extra leading axis for each device.\n",
    "\n",
    "## Run the training loop\n",
    "\n",
    "Once we got everything, `train_state` and `train_step_fn`, ready, training can be written simply by repeating `(train_state, ...) =  train_step_fn(train_state, batch, ...)`. Here, we do this over the first 500 batches from the dataset."
   ]
  },
  {
   "cell_type": "code",
   "execution_count": 10,
   "metadata": {},
   "outputs": [
    {
     "name": "stderr",
     "output_type": "stream",
     "text": [
      "2023-02-20 13:44:53.749790: W tensorflow/compiler/xla/stream_executor/platform/default/dso_loader.cc:64] Could not load dynamic library 'libcusolver.so.11'; dlerror: libcusolver.so.11: cannot open shared object file: No such file or directory; LD_LIBRARY_PATH: :/usr/local/google/home/yotaro/cuda/gpus/cuda_11_0/lib64\n",
      "2023-02-20 13:44:53.755208: W tensorflow/core/common_runtime/gpu/gpu_device.cc:1934] Cannot dlopen some GPU libraries. Please make sure the missing libraries mentioned above are installed properly if you would like to use GPU. Follow the guide at https://www.tensorflow.org/install/gpu for how to download and setup the required libraries for your platform.\n",
      "Skipping registering GPU devices...\n",
      "2023-02-20 13:45:06.729735: W tensorflow/core/kernels/data/cache_dataset_ops.cc:856] The calling iterator did not fully read the dataset being cached. In order to avoid unexpected truncation of the dataset, the partially cached contents of the dataset  will be discarded. This can happen if you have an input pipeline similar to `dataset.cache().take(k).repeat()`. You should use `dataset.take(k).cache().repeat()` instead.\n"
     ]
    }
   ],
   "source": [
    "prng_key = jax.random.PRNGKey(0)\n",
    "step_infos = []\n",
    "for batch in get_dataset(64).take(500).as_numpy_iterator():\n",
    "    rng, prng_key = jax.random.split(prng_key)\n",
    "    train_state, step_info = train_step_fn(train_state, batch, rng)\n",
    "    step_infos.append(step_info)"
   ]
  },
  {
   "attachments": {},
   "cell_type": "markdown",
   "metadata": {},
   "source": [
    "It should be noted that we had an extra complication due to RNGs.  For each step, we need new RNG seed for Dropout module used in the model.  This is done by splitting the root RNG (here defined as `jax.random.PRNGKey(0)`) for each usage of RNG.\n",
    "\n",
    "The return value of `train_step_fn` is actually a pair of updated `train_state` and `step_info: bobbin.training.StepInfo` that carries auxiliary information obtained during the step.\n",
    "`StepInfo` has the following fields:\n",
    "\n",
    "* StepInfo.loss: loss value.\n",
    "* StepInfo.loss_aux_out: auxiliary output from the loss function. In this example, our `compute_loss` returns None, so this field must be None.\n",
    "\n",
    "For pmapped version of `train_step_fn`, `StepInfo` is also replicated as follows:"
   ]
  },
  {
   "cell_type": "code",
   "execution_count": 11,
   "metadata": {},
   "outputs": [
    {
     "name": "stdout",
     "output_type": "stream",
     "text": [
      "StepInfo(loss=Array([2.9141948, 2.6939518, 3.0465186, 2.6297505, 2.486627 , 2.4461143,\n",
      "       2.5025089, 2.1186543], dtype=float32), loss_aux_out=None)\n"
     ]
    }
   ],
   "source": [
    "print(step_infos[0])"
   ]
  },
  {
   "attachments": {},
   "cell_type": "markdown",
   "metadata": {},
   "source": [
    "So here, `np.mean` is applied to obtain actual loss values used for optimization, that are means over devices."
   ]
  },
  {
   "cell_type": "code",
   "execution_count": 12,
   "metadata": {},
   "outputs": [
    {
     "data": {
      "text/plain": [
       "[<matplotlib.lines.Line2D at 0x7fe7e83d4430>]"
      ]
     },
     "execution_count": 12,
     "metadata": {},
     "output_type": "execute_result"
    },
    {
     "data": {
      "image/png": "[encoded data removed]",
      "text/plain": [
       "<Figure size 640x480 with 1 Axes>"
      ]
     },
     "metadata": {},
     "output_type": "display_data"
    }
   ],
   "source": [
    "losses = [np.mean(step_info.loss) for step_info in step_infos]\n",
    "plt.plot(losses)"
   ]
  }
 ],
 "metadata": {
  "kernelspec": {
   "display_name": "devenv",
   "language": "python",
   "name": "python3"
  },
  "language_info": {
   "codemirror_mode": {
    "name": "ipython",
    "version": 3
   },
   "file_extension": ".py",
   "mimetype": "text/x-python",
   "name": "python",
   "nbconvert_exporter": "python",
   "pygments_lexer": "ipython3",
   "version": "3.10.9"
  },
  "orig_nbformat": 4,
  "vscode": {
   "interpreter": {
    "hash": "eb4d849bafa02e801559e3934071dec087ae9bd4e6fac9af5ed0b4f8b22179c4"
   }
  }
 },
 "nbformat": 4,
 "nbformat_minor": 2
}
